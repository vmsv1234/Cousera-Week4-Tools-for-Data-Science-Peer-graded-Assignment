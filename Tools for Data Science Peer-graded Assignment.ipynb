{
 "cells": [
  {
   "cell_type": "markdown",
   "id": "7cc0c4ac",
   "metadata": {},
   "source": [
    "# My Jupyter Notebook on IBM Watson Studio"
   ]
  },
  {
   "cell_type": "markdown",
   "id": "969f9276",
   "metadata": {},
   "source": [
    "# "
   ]
  },
  {
   "cell_type": "markdown",
   "id": "33324bab",
   "metadata": {},
   "source": [
    "### VUTUKURI MADHU SUDHANA  VAMSI"
   ]
  },
  {
   "cell_type": "markdown",
   "id": "cc001877",
   "metadata": {},
   "source": [
    "##### I am interested in data science because data i want to become a datascietist"
   ]
  },
  {
   "cell_type": "markdown",
   "id": "20dcdc73",
   "metadata": {},
   "source": [
    "# "
   ]
  },
  {
   "cell_type": "markdown",
   "id": "91cd097a",
   "metadata": {},
   "source": [
    "#### data science languages\n",
    "1. Python.\n",
    "2. R.\n",
    "3. SQL.\n",
    "4. Java.\n",
    "5. Julia\n",
    "6. JavaScript\n",
    "7. C/C++"
   ]
  },
  {
   "cell_type": "markdown",
   "id": "7c5cca0b",
   "metadata": {},
   "source": [
    "# "
   ]
  },
  {
   "cell_type": "markdown",
   "id": "2d203686",
   "metadata": {},
   "source": [
    "#### data science libraries\n",
    "1. scikit-learn\n",
    "2. TensorFlow\n",
    "3. Theano\n",
    "4. PyTorch\n",
    "5. NumPy\n",
    "6. SciPy\n",
    "7. Pandas\n",
    "8. Matplotlib\n",
    "9. Keras"
   ]
  },
  {
   "cell_type": "markdown",
   "id": "34122cc7",
   "metadata": {},
   "source": [
    "| Data SCience Tools |\n",
    "|--------------------|\n",
    "| SAS |\n",
    "| Apache Spark |\n",
    "| BigML |\n",
    "| MATLAB |\n",
    "| Excel |\n",
    "| ggplot2 |\n",
    "| Tableau |\n",
    "| Jupyter|\n",
    "| Matplotlib|\n",
    "| NLTK|"
   ]
  },
  {
   "cell_type": "markdown",
   "id": "9bf0ef3e",
   "metadata": {},
   "source": [
    "#### 5 -- a number is an arithmetic expression.\n",
    "#### (3 + 4) -- the sum of numbers is an arithmetic expression.\n",
    "#### (7 - 3) -- the difference of two numbers is an arithmetic expression.\n",
    "#### (2 5), 2 5 -- a product of two numbers is an arithmetic expression."
   ]
  },
  {
   "cell_type": "code",
   "execution_count": 2,
   "id": "1c6e089e",
   "metadata": {},
   "outputs": [
    {
     "data": {
      "text/plain": [
       "2125"
      ]
     },
     "execution_count": 2,
     "metadata": {},
     "output_type": "execute_result"
    }
   ],
   "source": [
    "7*5*2*14+(100+200+845)"
   ]
  },
  {
   "cell_type": "code",
   "execution_count": 9,
   "id": "fa7ff2f3",
   "metadata": {},
   "outputs": [
    {
     "name": "stdout",
     "output_type": "stream",
     "text": [
      "11.916666666666666 hours, \n"
     ]
    }
   ],
   "source": [
    "#minutes to hours conversion\n",
    "minutes = 16555      \n",
    "leftover_minutes = minutes % 1440\n",
    "hours = leftover_minutes / 60\n",
    "print(str(hours) + \" hours, \")"
   ]
  },
  {
   "cell_type": "markdown",
   "id": "5b8e0dca",
   "metadata": {},
   "source": [
    "1. explore\n",
    "2.sort\n",
    "3. analyze megadata from various sources \n",
    "4. reach conclusions to optimize business processes or for decision support."
   ]
  },
  {
   "cell_type": "markdown",
   "id": "a1b2dee3",
   "metadata": {},
   "source": [
    "## indicate the Author’s name."
   ]
  },
  {
   "cell_type": "code",
   "execution_count": null,
   "id": "838c3e2f",
   "metadata": {},
   "outputs": [],
   "source": []
  }
 ],
 "metadata": {
  "kernelspec": {
   "display_name": "Python 3",
   "language": "python",
   "name": "python3"
  },
  "language_info": {
   "codemirror_mode": {
    "name": "ipython",
    "version": 3
   },
   "file_extension": ".py",
   "mimetype": "text/x-python",
   "name": "python",
   "nbconvert_exporter": "python",
   "pygments_lexer": "ipython3",
   "version": "3.8.8"
  }
 },
 "nbformat": 4,
 "nbformat_minor": 5
}
